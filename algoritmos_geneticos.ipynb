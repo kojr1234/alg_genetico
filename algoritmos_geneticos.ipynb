{
 "cells": [
  {
   "cell_type": "markdown",
   "metadata": {},
   "source": [
    "Começamos com um conjunto genérico de letras para genes e uma saída que queremos obter"
   ]
  },
  {
   "cell_type": "code",
   "execution_count": 1,
   "metadata": {},
   "outputs": [],
   "source": [
    "geneSet = \" abcdefghijklmnopqrstuvwxyzABCDEFGHIJKLMNOPQRSTUVWXYZ!.\"\n",
    "target = \"Hello World!Hello World!Hello World!Hello World!Hello World!Hello World!Hello World!Hello World!Hello World!\""
   ]
  },
  {
   "cell_type": "markdown",
   "metadata": {},
   "source": [
    "**Generate a guess**\n",
    "\n",
    "Em seguida, precisamos de uma maneira de gerar uma seqüência aleatória de letras do conjunto de genes."
   ]
  },
  {
   "cell_type": "code",
   "execution_count": 2,
   "metadata": {},
   "outputs": [],
   "source": [
    "import random\n",
    "from operator import itemgetter\n",
    "\n",
    "def generate_parent(length):\n",
    "    genes = []\n",
    "    while len(genes) < length:\n",
    "        sampleSize = min(length - len(genes), len(geneSet))\n",
    "        genes.extend(random.sample(geneSet, sampleSize))\n",
    "    return ''.join(genes)"
   ]
  },
  {
   "cell_type": "markdown",
   "metadata": {},
   "source": [
    "`random.sample` pega valores `sampleSize` da entrada sem substituição. Isso significa que não haverá duplicatas no pai gerado, a menos que o `geneSet` contenha duplicatas ou o tamanho seja maior que `len(geneSet)`. A implementação acima nos permite gerar uma longa string com um pequeno conjunto de genes, usando o maior número possível de genes únicos.\n",
    "\n",
    "**Fitness**\n",
    "\n",
    "O valor de adequação que o algoritmo genético fornece é o único feedback que o mecanismo obtém para guiá-lo em direção \n",
    "a uma solução. Nesse problema, nosso valor de adequação é o número total de letras no palpite que correspondem à letra \n",
    "na mesma posição da senha."
   ]
  },
  {
   "cell_type": "code",
   "execution_count": 3,
   "metadata": {},
   "outputs": [],
   "source": [
    "def get_fitness(guess):\n",
    "    return sum(1 for expected, actual in zip(target, guess) if expected == actual)"
   ]
  },
  {
   "cell_type": "markdown",
   "metadata": {},
   "source": [
    "**Generate Mask**\n",
    "\n",
    "Gera uma máscara com 1 nas posições que já acertou, e 0 nas posições erradas"
   ]
  },
  {
   "cell_type": "code",
   "execution_count": 4,
   "metadata": {},
   "outputs": [],
   "source": [
    "def generate_mask(parent):\n",
    "    return [1 if pair[0] == pair[1] else 0 for pair in list(zip(target, parent))]"
   ]
  },
  {
   "cell_type": "markdown",
   "metadata": {},
   "source": [
    "**Generate Pop**\n",
    "\n",
    "Gera uma população aleatória de tamanho `pop_size`"
   ]
  },
  {
   "cell_type": "code",
   "execution_count": 5,
   "metadata": {},
   "outputs": [],
   "source": [
    "def generate_pop(pop_size):\n",
    "    pop = []\n",
    "    while len(pop) < pop_size:\n",
    "        pop.append(generate_parent(len(target)))\n",
    "    return pop"
   ]
  },
  {
   "cell_type": "markdown",
   "metadata": {},
   "source": [
    "**Crossover Tournment**\n",
    "\n",
    "Gera um novo filho a partir de um cruzamento de 2 pais aleatórios entre os melhores "
   ]
  },
  {
   "cell_type": "code",
   "execution_count": 6,
   "metadata": {},
   "outputs": [],
   "source": [
    "def crossover_tournament(pop):\n",
    "    parent1 = pop[random.randrange(0, len(pop))]\n",
    "    parent2 = pop[random.randrange(0, len(pop))]\n",
    "    \n",
    "    mask1 = generate_mask(parent1)\n",
    "    mask2 = generate_mask(parent2)\n",
    "    \n",
    "    new_child = []\n",
    "    for i in range(len(mask1)):\n",
    "        if mask1[i]:\n",
    "            new_child.append(parent1[i])\n",
    "        elif mask2[i]:\n",
    "            new_child.append(parent2[i])\n",
    "        else:\n",
    "            new_child.append(parent1[i])\n",
    "            \n",
    "    return ''.join(new_child)"
   ]
  },
  {
   "cell_type": "markdown",
   "metadata": {},
   "source": [
    "**Mutate**\n",
    "\n",
    "Gera um novo caractere em todas as posições que não correspondem ao target"
   ]
  },
  {
   "cell_type": "code",
   "execution_count": 7,
   "metadata": {},
   "outputs": [],
   "source": [
    "def mutate(parent):\n",
    "    mask = generate_mask(parent)\n",
    "    childGenes = list(parent)\n",
    "    for index, sign in enumerate(mask):\n",
    "        if sign == 0:\n",
    "            newGene, alternate = random.sample(geneSet, 2)\n",
    "            childGenes[index] = alternate if newGene == childGenes[index] else newGene\n",
    "    \n",
    "    return ''.join(childGenes)"
   ]
  },
  {
   "cell_type": "markdown",
   "metadata": {},
   "source": [
    "**Display**"
   ]
  },
  {
   "cell_type": "code",
   "execution_count": 8,
   "metadata": {},
   "outputs": [],
   "source": [
    "import datetime\n",
    "\n",
    "def display(guess):\n",
    "    timeDiff = datetime.datetime.now() - startTime\n",
    "    fitness = get_fitness(guess)\n",
    "    print(\"{0}\\t{1}\\t{2}\".format(guess, fitness, str(timeDiff)))"
   ]
  },
  {
   "cell_type": "markdown",
   "metadata": {},
   "source": [
    "**Main**\n",
    "\n",
    "Agora estamos prontos para escrever o programa principal. \n",
    "Começamos gerando uma população aleatórria de 100 pais. Nesta população vamos cruzar os 20 melhores pelo método do torneio e aplicar uma mutação em todas as posições que não correspondem ao target. Com isso geramos uma nova população e reiniciamos o processo até encontrarmos a resposta."
   ]
  },
  {
   "cell_type": "code",
   "execution_count": 10,
   "metadata": {},
   "outputs": [],
   "source": [
    "pop_size = 100\n",
    "\n",
    "random.seed()\n",
    "startTime = datetime.datetime.now()\n",
    "pop = generate_pop(pop_size)"
   ]
  },
  {
   "cell_type": "code",
   "execution_count": 11,
   "metadata": {},
   "outputs": [
    {
     "name": "stdout",
     "output_type": "stream",
     "text": [
      "HSONmThGReJdfvibCBQlUcx!jqzFtX.npADwLWKroyMgkVYsZE IauPzgyumjsZwXWIoUNcnfYqdD!A xhvCJepbFQORHaGkKMV.TSPrLtiE\t5\t0:00:14.829854\n",
      "mTwTobOSCcuJbaxlolWpBCyopeQU dnRLedMdcKOutsoQStTH Alj zZRCduC!GlXwlyrjdfxeWBB.TmMWt.qkolVAoLJqgXSFlvXRZHoeHi\t17\t0:00:14.944788\n",
      "HUIQovFjxudFYrlloxWleIM!GeDArclEElderXWloNWonMwLHnDlo gfhgdyIo.lnHuorldaHehs!saBgYSAIeMlk!KPiDT!ojllYOihxlja\t33\t0:00:15.076588\n",
      "HSD.ouwGpldddclloLWowRI!KelwoFZCrld!INllojWormdvHcllo CsrRdQleclT forldTHeqlogVaYldOHeuloXWfAzD!uullotaorlk \t56\t0:00:15.144601\n",
      "Heloo WymldYurlloRWorld!jelbo fTrld!lelloZWordd.Hwllo Oyrldajeplg WorldIHelloUAorld!He!loIWoslo!TplloMXorlw!\t74\t0:00:15.206790\n",
      "Hello WvoldeKWllohWorld!HelLoFwfrld!HelloDWorld!Hello Gorld!fello World!HelloZWGrld!Hello WoCMd!Hqllo yorlYW\t87\t0:00:15.240188\n",
      "Hello WPzldcyHllo World!Helyo Wgrld!HelloQWorld!Hello Horld!Hello World!HellobWorld!Hello World!Hello vorlO!\t96\t0:00:15.273471\n",
      "Hello WBJld!HBllo World!Hello World!HellouWorld!HOllo oorld!Hello World!Hello World!Hello World!Hello WorlO!\t101\t0:00:15.290213\n",
      "Hello World!Hello World!Hello Porld!Hello World!Hello World!Hello World!Hello World!Hello World!Hello World!\t107\t0:00:15.322506\n",
      "Hello World!Hello World!Hello World!Hello World!Hello World!Hello World!Hello World!Hello World!Hello World!\t108\t0:00:15.339161\n",
      "Gerações: 10\t Tempo total de execução: 0:00:15.339161\n"
     ]
    }
   ],
   "source": [
    "iterations = 0\n",
    "chosen_number=20\n",
    "for i in range(100):\n",
    "    iterations += 1\n",
    "    \n",
    "    # Calculamos o fitness de cada parent e ordenamos com os melhores por cima\n",
    "    fitness_list = []\n",
    "    for sample in pop:\n",
    "        fitness_list.append(get_fitness(sample))\n",
    "    pop = sorted(zip(pop, fitness_list), key=lambda x: x[1], reverse=True)\n",
    "    \n",
    "    # Exibe o melhor parent\n",
    "    display(pop[0][0])\n",
    "    \n",
    "    # Caso o melhor parent seja a resposta, paramos o algoritmo\n",
    "    if pop[0][1] == len(target):\n",
    "        break\n",
    "    \n",
    "    # Criamos uma lista com os 20 melhores\n",
    "    chosen_parent = pop[:chosen_number]\n",
    "    \n",
    "    # Geramos uma nova população fazendo os cruzamentos e mutações com os 20 melhores\n",
    "    new_pop = []\n",
    "    while len(new_pop) < len(pop):\n",
    "        child = crossover_tournament(list(map(itemgetter(0), chosen_parent)))\n",
    "        child = mutate(child)\n",
    "        new_pop.append(child)\n",
    "        \n",
    "    # A nova lista gerada passa a ser nossa população principal\n",
    "    pop = new_pop\n",
    "\n",
    "timeDiff = datetime.datetime.now() - startTime\n",
    "print(\"Gerações: {0}\\t Tempo total de execução: {1}\".format(iterations, timeDiff))"
   ]
  }
 ],
 "metadata": {
  "kernelspec": {
   "display_name": "Python 3",
   "language": "python",
   "name": "python3"
  },
  "language_info": {
   "codemirror_mode": {
    "name": "ipython",
    "version": 3
   },
   "file_extension": ".py",
   "mimetype": "text/x-python",
   "name": "python",
   "nbconvert_exporter": "python",
   "pygments_lexer": "ipython3",
   "version": "3.6.4"
  }
 },
 "nbformat": 4,
 "nbformat_minor": 2
}
